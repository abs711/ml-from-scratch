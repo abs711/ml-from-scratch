{
  "nbformat": 4,
  "nbformat_minor": 0,
  "metadata": {
    "colab": {
      "provenance": [],
      "authorship_tag": "ABX9TyP2wC35o6KpeawDoG58ym0M",
      "include_colab_link": true
    },
    "kernelspec": {
      "name": "python3",
      "display_name": "Python 3"
    },
    "language_info": {
      "name": "python"
    }
  },
  "cells": [
    {
      "cell_type": "markdown",
      "metadata": {
        "id": "view-in-github",
        "colab_type": "text"
      },
      "source": [
        "<a href=\"https://colab.research.google.com/github/abs711/ml-from-scratch/blob/main/NaiveBayes_from_scratch.ipynb\" target=\"_parent\"><img src=\"https://colab.research.google.com/assets/colab-badge.svg\" alt=\"Open In Colab\"/></a>"
      ]
    },
    {
      "cell_type": "code",
      "execution_count": 1,
      "metadata": {
        "id": "Rn9vb2qQbkJg"
      },
      "outputs": [],
      "source": [
        "import numpy as np\n",
        "from sklearn.model_selection import train_test_split\n",
        "from sklearn import datasets\n",
        "import matplotlib.pyplot as plt"
      ]
    },
    {
      "cell_type": "code",
      "source": [
        "class NaiveBayes:\n",
        "  def fit(self, X, y):\n",
        "    n_samples, n_features = X.shape\n",
        "    self._classes = np.unique(y)\n",
        "    n_classes = len(self._classes)\n",
        "\n",
        "    self._mean = np.zeros((n_classes, n_features), dtype=np.float64)\n",
        "    self._var = np.zeros((n_classes, n_features), dtype=np.float64)\n",
        "    self._priors = np.zeros(n_classes, dtype=np.float64)\n",
        "\n",
        "    for idx, c in enumerate(self._classes):\n",
        "      X_c = X[y == c]\n",
        "      self._mean[idx,:] = X_c.mean(axis=0)\n",
        "      self._var[idx,:] = X_c.var(axis=0)\n",
        "      self._priors[idx] = X_c.shape[0]/float(n_samples)\n",
        "\n",
        "\n",
        "  def predict(self,X):\n",
        "    y_pred = [self._predict(x) for x in X]\n",
        "    return np.array(y_pred)\n",
        "\n",
        "  def _predict(self,x):\n",
        "    posteriors = []\n",
        "\n",
        "    for idx, c in enumerate(self._classes):\n",
        "      prior = np.log(self._priors[idx])\n",
        "      posterior = np.sum(np.log(self._pdf(idx, x)))\n",
        "      posterior = posterior + prior\n",
        "      posteriors.append(posterior)\n",
        "\n",
        "    return self._classes[np.argmax(posteriors)]\n",
        "\n",
        "  def _pdf(self, class_idx, x):\n",
        "    mean = self._mean[class_idx]\n",
        "    var = self._var[class_idx]\n",
        "    numerator = np.exp(-((x-mean)**2)/(2*var))\n",
        "    denominator = np.sqrt(2*np.pi*var)\n",
        "    return numerator/denominator"
      ],
      "metadata": {
        "id": "Ev33ElXicVaR"
      },
      "execution_count": 14,
      "outputs": []
    },
    {
      "cell_type": "code",
      "source": [
        "def accuracy(y_pred, y_test):\n",
        "  return np.sum(y_pred==y_test)/len(y_test)"
      ],
      "metadata": {
        "id": "A5y9s5yAe-D-"
      },
      "execution_count": 15,
      "outputs": []
    },
    {
      "cell_type": "code",
      "source": [
        "X, y =datasets.make_classification(n_samples=1000, n_features=10, n_classes=2, random_state=123)\n",
        "\n",
        "X_train, X_test, y_train, y_test = train_test_split(X, y, test_size=0.2, random_state=123)\n"
      ],
      "metadata": {
        "id": "RhnnD9kufEH7"
      },
      "execution_count": 16,
      "outputs": []
    },
    {
      "cell_type": "code",
      "source": [
        "clf = NaiveBayes()\n",
        "\n",
        "clf.fit(X_train,y_train)\n",
        "y_pred = clf.predict(X_test)\n",
        "\n",
        "\n",
        "acc = accuracy(y_pred, y_test)\n",
        "\n",
        "acc"
      ],
      "metadata": {
        "colab": {
          "base_uri": "https://localhost:8080/"
        },
        "id": "HW21htkqfYLn",
        "outputId": "471b9d3c-9626-4e76-eb01-4f14d3df7971"
      },
      "execution_count": 17,
      "outputs": [
        {
          "output_type": "execute_result",
          "data": {
            "text/plain": [
              "0.965"
            ]
          },
          "metadata": {},
          "execution_count": 17
        }
      ]
    },
    {
      "cell_type": "code",
      "source": [],
      "metadata": {
        "id": "roBZDrMwfm54"
      },
      "execution_count": null,
      "outputs": []
    }
  ]
}