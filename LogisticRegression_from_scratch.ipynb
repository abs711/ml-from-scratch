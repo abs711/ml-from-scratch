{
  "nbformat": 4,
  "nbformat_minor": 0,
  "metadata": {
    "colab": {
      "provenance": [],
      "authorship_tag": "ABX9TyPROd4PTr5cjSN9pd5lEGa4",
      "include_colab_link": true
    },
    "kernelspec": {
      "name": "python3",
      "display_name": "Python 3"
    },
    "language_info": {
      "name": "python"
    }
  },
  "cells": [
    {
      "cell_type": "markdown",
      "metadata": {
        "id": "view-in-github",
        "colab_type": "text"
      },
      "source": [
        "<a href=\"https://colab.research.google.com/github/abs711/ml-from-scratch/blob/main/LogisticRegression_from_scratch.ipynb\" target=\"_parent\"><img src=\"https://colab.research.google.com/assets/colab-badge.svg\" alt=\"Open In Colab\"/></a>"
      ]
    },
    {
      "cell_type": "code",
      "source": [
        "import numpy as np\n",
        "from sklearn.model_selection import train_test_split\n",
        "from sklearn import datasets\n",
        "import matplotlib.pyplot as plt"
      ],
      "metadata": {
        "id": "Ufz2EH2H5AEh"
      },
      "execution_count": 74,
      "outputs": []
    },
    {
      "cell_type": "code",
      "source": [
        "def accuracy(y_pred, y_test):\n",
        "  return np.sum(y_pred==y_test)/len(y_test)\n",
        "\n",
        "def ce_loss(y_pred,y):\n",
        "  eps = 10**(-6)\n",
        "  return -(y*np.log(y_pred+eps)+(1-y)*np.log(1-y_pred+eps)).mean()\n",
        "\n",
        "def sigmoid(x):\n",
        "  return (1/(1+np.exp(-x)))\n",
        "\n",
        "class LogisticRegression:\n",
        "  def __init__(self, lr = 0.001, n_iters=1000):\n",
        "    self.lr = lr\n",
        "    self.n_iters = n_iters\n",
        "    self.weights = None\n",
        "    self.bias = None\n",
        "    self.loss = []\n",
        "\n",
        "  def fit(self, X, y):\n",
        "    n_samples, n_features = X.shape\n",
        "    self.weights = np.random.rand(n_features)\n",
        "    self.bias = np.random.rand(1)\n",
        "\n",
        "    for _ in range(self.n_iters):\n",
        "      linear_pred = np.dot(X, self.weights) + self.bias\n",
        "      predictions = sigmoid(linear_pred)\n",
        "      # print(predictions[:6])\n",
        "\n",
        "      self.loss.append(ce_loss(predictions,y))\n",
        "\n",
        "      dw = (1/n_samples)*np.dot(X.T, (predictions - y))\n",
        "      db = (1/n_samples)*np.sum(predictions - y)\n",
        "\n",
        "      self.weights = self.weights - self.lr*dw\n",
        "      self.bias = self.bias - self.lr*db\n",
        "\n",
        "\n",
        "  def predict(self,X):\n",
        "    linear_pred = np.dot(X, self.weights) + self.bias\n",
        "    predictions = sigmoid(linear_pred)\n",
        "    class_pred = [0 if y<=0.5 else 1 for y in predictions]\n",
        "    return class_pred\n",
        "\n"
      ],
      "metadata": {
        "id": "5xQ6t4v55DNG"
      },
      "execution_count": 108,
      "outputs": []
    },
    {
      "cell_type": "code",
      "source": [
        "bc = datasets.load_breast_cancer()\n",
        "X, y = bc.data, bc.target\n",
        "X_train, X_test, y_train, y_test = train_test_split(X, y, test_size=0.2, random_state=1234)\n",
        "\n",
        "clf = LogisticRegression(lr=0.001)\n",
        "clf.fit(X_train, y_train)\n",
        "\n",
        "y_pred = clf.predict(X_test)\n",
        "\n",
        "\n",
        "acc = accuracy(y_pred, y_test)\n",
        "\n",
        "acc\n"
      ],
      "metadata": {
        "colab": {
          "base_uri": "https://localhost:8080/"
        },
        "id": "nkCN4GtX83Ek",
        "outputId": "9f2fe5d8-a2a8-4161-afe3-b557587bf875"
      },
      "execution_count": 121,
      "outputs": [
        {
          "output_type": "stream",
          "name": "stderr",
          "text": [
            "<ipython-input-108-6155904a40b6>:9: RuntimeWarning: overflow encountered in exp\n",
            "  return (1/(1+np.exp(-x)))\n"
          ]
        },
        {
          "output_type": "execute_result",
          "data": {
            "text/plain": [
              "0.9122807017543859"
            ]
          },
          "metadata": {},
          "execution_count": 121
        }
      ]
    },
    {
      "cell_type": "code",
      "source": [
        "plt.plot(clf.loss)"
      ],
      "metadata": {
        "colab": {
          "base_uri": "https://localhost:8080/",
          "height": 448
        },
        "id": "RlLfzm0e92K8",
        "outputId": "b88010ea-b706-455b-cfc5-13203d58a080"
      },
      "execution_count": 122,
      "outputs": [
        {
          "output_type": "execute_result",
          "data": {
            "text/plain": [
              "[<matplotlib.lines.Line2D at 0x7f51b6cb0ca0>]"
            ]
          },
          "metadata": {},
          "execution_count": 122
        },
        {
          "output_type": "display_data",
          "data": {
            "text/plain": [
              "<Figure size 640x480 with 1 Axes>"
            ],
            "image/png": "[encoded data removed]"
          },
          "metadata": {}
        }
      ]
    },
    {
      "cell_type": "code",
      "source": [],
      "metadata": {
        "id": "kDf-K9JCFcA4"
      },
      "execution_count": null,
      "outputs": []
    }
  ]
}